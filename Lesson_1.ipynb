{
 "cells": [
  {
   "cell_type": "markdown",
   "metadata": {},
   "source": [
    "This notebook replicates the code for Lesson 1 of QF607"
   ]
  },
  {
   "cell_type": "markdown",
   "metadata": {},
   "source": [
    "# 👉 <a id = \"top\">Table of Contents</a> 👈 "
   ]
  },
  {
   "cell_type": "markdown",
   "metadata": {},
   "source": [
    "# [1. Computational Cost](#p1)\n",
    "\n",
    "# [2. Fixed point representation](#p2)\n",
    "\n",
    "# [3. Floating point representation](#p3)\n",
    "\n",
    "# [4. Rounding error and machine epsilon](#p4)\n",
    "\n",
    "# [5. Finite Difference](#p5)"
   ]
  },
  {
   "cell_type": "code",
   "execution_count": 20,
   "metadata": {},
   "outputs": [],
   "source": [
    "import timeit\n",
    "import math\n",
    "from enum import Enum\n",
    "import numpy as np\n",
    "import matplotlib.pyplot as plt"
   ]
  },
  {
   "cell_type": "markdown",
   "metadata": {},
   "source": [
    "# <a id = \"p1\">1.</a>  <font color = \"green\"> Computational Cost </font>  [back to table of contents](#top)"
   ]
  },
  {
   "cell_type": "code",
   "execution_count": 21,
   "metadata": {},
   "outputs": [],
   "source": [
    "def opTiming(op, opName, repeat):\n",
    "    elapsed_time = timeit.timeit(op, setup='import math', number=repeat)\n",
    "    print(opName, \"\\t\", elapsed_time / repeat)"
   ]
  },
  {
   "cell_type": "code",
   "execution_count": 22,
   "metadata": {},
   "outputs": [],
   "source": [
    "repeat = int(1e8)"
   ]
  },
  {
   "cell_type": "code",
   "execution_count": 23,
   "metadata": {},
   "outputs": [
    {
     "name": "stdout",
     "output_type": "stream",
     "text": [
      "add \t 5.9363866600324396e-09\n",
      "mul \t 5.460752910003066e-09\n",
      "div \t 5.464241250010673e-09\n",
      "log \t 6.357436708996828e-08\n",
      "exp \t 3.968664583000645e-08\n",
      "sqrt \t 3.7375122500016004e-08\n"
     ]
    }
   ],
   "source": [
    "opTiming(\"x = 5.0 + 7.0\", \"add\", repeat)\n",
    "opTiming(\"x = 5.0 * 7.0\", \"mul\", repeat)\n",
    "opTiming(\"x = 5.0 / 7.0\", \"div\", repeat)\n",
    "opTiming(\"x = math.log(7.0)\", \"log\", repeat)\n",
    "opTiming(\"x = math.exp(7.0)\", \"exp\", repeat)\n",
    "opTiming(\"x = math.sqrt(7.0)\", \"sqrt\", repeat)"
   ]
  },
  {
   "cell_type": "code",
   "execution_count": 24,
   "metadata": {},
   "outputs": [],
   "source": [
    "m1 = \"\"\"\n",
    "S = 100;K = 105;vol = 0.1;t=2;mu=0.01\n",
    "d1 = (math.log(S * math.exp(mu*t) / K) + vol * vol * t / 2) / vol / math.sqrt(t)\n",
    "\"\"\"\n",
    "\n",
    "m2 = \"\"\"\n",
    "S = 100;K = 105;vol = 0.1;t=2;mu=0.01\n",
    "stdev = vol * math.sqrt(t)\n",
    "d1 = (math.log(S / K) + mu*t) / stdev + stdev / 2\n",
    "\"\"\""
   ]
  },
  {
   "cell_type": "code",
   "execution_count": 25,
   "metadata": {},
   "outputs": [
    {
     "name": "stdout",
     "output_type": "stream",
     "text": [
      "m1 \t 2.9701525419950483e-07\n",
      "m2 \t 2.0888969170046038e-07\n"
     ]
    }
   ],
   "source": [
    "repeat = int(1e7)\n",
    "opTiming(m1, 'm1', repeat)\n",
    "opTiming(m2, 'm2', repeat)"
   ]
  },
  {
   "cell_type": "markdown",
   "metadata": {},
   "source": [
    "# <a id = \"p2\">2.</a>  <font color = \"green\"> Fixed point representation </font>  [back to table of contents](#top)"
   ]
  },
  {
   "cell_type": "code",
   "execution_count": 26,
   "metadata": {},
   "outputs": [],
   "source": [
    "# This function converts a floating-point number x into a fixed-point binary representation.\n",
    "# x is the floating-point number to convert.\n",
    "# w is the total number of bits in the fixed-point representation.\n",
    "# b is the number of fractional bits (the precision).\n",
    "\n",
    "\n",
    "def toFixedPoint(x : float, w : int, b : int) -> [int]:\n",
    "    # set a[w-1] to 1 if x < 0, otherwise set a[w-1] to 0\n",
    "    # Creates a list a of size w filled with zeros.\n",
    "    # This list will hold the binary digits (bits) of the fixed-point representation.\n",
    "    a = [0 for i in range(w)]\n",
    "    # If x is negative, set the most significant bit (a[0]) to 1 (sign bit for two's complement representation).\n",
    "    # Adjust x by adding 2**(w−1−b), which effectively handles the negative offset in fixed-point binary representation.\n",
    "    if x < 0:\n",
    "        a[0] = 1\n",
    "        x += 2**(w-1-b)\n",
    "    # The loop starts from bit 1 (the next most significant bit after the sign bit) and goes to the least significant bit.\n",
    "    # For each bit position i, calculate y, which represents the scaled value of x divided by the weight of the current bit. The weight of each bit is determined by \n",
    "    # 2**(w−1−i−b), corresponding to the fixed-point scaling.\n",
    "    for i in range(1, w):\n",
    "        y = x / (2**(w-1-i-b))\n",
    "        # Round down y to an integer (0 or 1) and store it in the ith position of a. This determines whether the current bit is set or not.\n",
    "        a[i] = int(y)  # round y down to integer\n",
    "        # Subtract the value represented by the current bit from x. This step reduces x for the next iteration to determine subsequent bits.\n",
    "        x -= a[i] * (2**(w-1-i-b))\n",
    "    # Once all the bits are determined, the function returns the list a, which is the binary fixed-point representation of the input x.\n",
    "    return a"
   ]
  },
  {
   "cell_type": "code",
   "execution_count": 27,
   "metadata": {},
   "outputs": [
    {
     "name": "stdout",
     "output_type": "stream",
     "text": [
      "[1, 1, 1, 0, 1, 1, 0, 0]\n",
      "[1, 1, 1, 0, 1, 1, 0, 1]\n",
      "[0, 0, 1, 0, 0, 1, 0, 1]\n"
     ]
    }
   ],
   "source": [
    "print(toFixedPoint(-10, 8, 1))\n",
    "print(toFixedPoint(-9.5, 8, 1))\n",
    "print(toFixedPoint(9.25, 8, 2))"
   ]
  },
  {
   "cell_type": "code",
   "execution_count": 28,
   "metadata": {},
   "outputs": [
    {
     "name": "stdout",
     "output_type": "stream",
     "text": [
      "[0, 2, 1, 0, 0, 0, 0, 0]\n",
      "[0, 1, 0, 1, 0, 0, 0, 0, 0]\n"
     ]
    }
   ],
   "source": [
    "print(toFixedPoint(20, 8, 3))\n",
    "print(toFixedPoint(20, 9, 3))"
   ]
  },
  {
   "cell_type": "code",
   "execution_count": 29,
   "metadata": {},
   "outputs": [],
   "source": [
    "# This function converts a floating-point number x into a fixed-point binary representation.\n",
    "# x is the floating-point number to convert.\n",
    "# w is the total number of bits in the fixed-point representation.\n",
    "# b is the number of fractional bits (the precision).\n",
    "\n",
    "def toFixedPoint2(x : float, w : int, b : int) -> [int]:\n",
    "    # set a[w-1] to 1 if x < 0, otherwise set a[w-1] to 0\n",
    "    # Creates a list a of size w filled with zeros.\n",
    "    # This list will hold the binary digits (bits) of the fixed-point representation.\n",
    "    a = [0 for i in range(w)]\n",
    "    # If x is negative, set the most significant bit (a[0]) to 1 (sign bit for two's complement representation).\n",
    "    # Adjust x by adding 2**(w−1−b), which effectively handles the negative offset in fixed-point binary representation.\n",
    "    if x < 0:\n",
    "        a[0] = 1\n",
    "        x += 2**(w-1-b)\n",
    "    # The loop starts from bit 1 (the next most significant bit after the sign bit) and goes to the least significant bit.\n",
    "    # For each bit position i, calculate y, which represents the scaled value of x divided by the weight of the current bit. The weight of each bit is determined by \n",
    "    # 2**(w−1−i−b), corresponding to the fixed-point scaling.\n",
    "    for i in range(1, w):\n",
    "        y = x / (2**(w-1-i-b))\n",
    "        # Checks if int(y) exceeds 1.\n",
    "        # If it does, the value x cannot be represented within the fixed-point format defined by w and b.\n",
    "        # If overflow occurs, an exception is raised with a descriptive error message indicating the issue.\n",
    "        if int(y) > 1:\n",
    "            raise OverflowError('fixed<' + str(w) + \",\" + str(b) + \"> is not sufficient to represent \" + str(x))\n",
    "        # Convert y to an integer (0 or 1) and store it in the ith position of the list a.\n",
    "        a[i] = int(y) # % 2  # round y down to integer\n",
    "        # Subtract the value represented by the current bit from x.\n",
    "        # This prepares x for calculating the next bit in subsequent iterations.\n",
    "        x -= a[i] * (2**(w-1-i-b))\n",
    "    # After processing all bits, return the list a containing the fixed-point binary representation of x.\n",
    "    return a"
   ]
  },
  {
   "cell_type": "code",
   "execution_count": 30,
   "metadata": {},
   "outputs": [
    {
     "ename": "OverflowError",
     "evalue": "fixed<8,3> is not sufficient to represent 20",
     "output_type": "error",
     "traceback": [
      "\u001b[0;31m---------------------------------------------------------------------------\u001b[0m",
      "\u001b[0;31mOverflowError\u001b[0m                             Traceback (most recent call last)",
      "Cell \u001b[0;32mIn [30], line 1\u001b[0m\n\u001b[0;32m----> 1\u001b[0m \u001b[38;5;28mprint\u001b[39m(\u001b[43mtoFixedPoint2\u001b[49m\u001b[43m(\u001b[49m\u001b[38;5;241;43m20\u001b[39;49m\u001b[43m,\u001b[49m\u001b[43m \u001b[49m\u001b[38;5;241;43m8\u001b[39;49m\u001b[43m,\u001b[49m\u001b[43m \u001b[49m\u001b[38;5;241;43m3\u001b[39;49m\u001b[43m)\u001b[49m)\n",
      "Cell \u001b[0;32mIn [29], line 25\u001b[0m, in \u001b[0;36mtoFixedPoint2\u001b[0;34m(x, w, b)\u001b[0m\n\u001b[1;32m     21\u001b[0m \u001b[38;5;66;03m# Checks if int(y) exceeds 1.\u001b[39;00m\n\u001b[1;32m     22\u001b[0m \u001b[38;5;66;03m# If it does, the value x cannot be represented within the fixed-point format defined by w and b.\u001b[39;00m\n\u001b[1;32m     23\u001b[0m \u001b[38;5;66;03m# If overflow occurs, an exception is raised with a descriptive error message indicating the issue.\u001b[39;00m\n\u001b[1;32m     24\u001b[0m \u001b[38;5;28;01mif\u001b[39;00m \u001b[38;5;28mint\u001b[39m(y) \u001b[38;5;241m>\u001b[39m \u001b[38;5;241m1\u001b[39m:\n\u001b[0;32m---> 25\u001b[0m     \u001b[38;5;28;01mraise\u001b[39;00m \u001b[38;5;167;01mOverflowError\u001b[39;00m(\u001b[38;5;124m'\u001b[39m\u001b[38;5;124mfixed<\u001b[39m\u001b[38;5;124m'\u001b[39m \u001b[38;5;241m+\u001b[39m \u001b[38;5;28mstr\u001b[39m(w) \u001b[38;5;241m+\u001b[39m \u001b[38;5;124m\"\u001b[39m\u001b[38;5;124m,\u001b[39m\u001b[38;5;124m\"\u001b[39m \u001b[38;5;241m+\u001b[39m \u001b[38;5;28mstr\u001b[39m(b) \u001b[38;5;241m+\u001b[39m \u001b[38;5;124m\"\u001b[39m\u001b[38;5;124m> is not sufficient to represent \u001b[39m\u001b[38;5;124m\"\u001b[39m \u001b[38;5;241m+\u001b[39m \u001b[38;5;28mstr\u001b[39m(x))\n\u001b[1;32m     26\u001b[0m \u001b[38;5;66;03m# Convert y to an integer (0 or 1) and store it in the ith position of the list a.\u001b[39;00m\n\u001b[1;32m     27\u001b[0m a[i] \u001b[38;5;241m=\u001b[39m \u001b[38;5;28mint\u001b[39m(y) \u001b[38;5;66;03m# % 2  # round y down to integer\u001b[39;00m\n",
      "\u001b[0;31mOverflowError\u001b[0m: fixed<8,3> is not sufficient to represent 20"
     ]
    }
   ],
   "source": [
    "print(toFixedPoint2(20, 8, 3))"
   ]
  },
  {
   "cell_type": "markdown",
   "metadata": {},
   "source": [
    "# <a id = \"p3\">3.</a>  <font color = \"green\"> Floating point representation </font>  [back to table of contents](#top)"
   ]
  },
  {
   "cell_type": "code",
   "execution_count": 31,
   "metadata": {},
   "outputs": [
    {
     "name": "stdout",
     "output_type": "stream",
     "text": [
      "float32 \t exponent bits =  8 \t significand bits =  23\n",
      "float64 \t exponent bits =  11 \t significand bits =  52\n",
      "float64 \t exponent bits =  11 \t significand bits =  52\n"
     ]
    }
   ],
   "source": [
    "for f in (np.float32, np.float64, float):\n",
    "    finfo = np.finfo(f)\n",
    "    print(finfo.dtype, \"\\t exponent bits = \", finfo.nexp, \"\\t significand bits = \", finfo.nmant)"
   ]
  },
  {
   "cell_type": "markdown",
   "metadata": {},
   "source": [
    "# <a id = \"p4\">4.</a>  <font color = \"green\"> Rounding error and machine epsilon </font>  [back to table of contents](#top)"
   ]
  },
  {
   "cell_type": "code",
   "execution_count": 32,
   "metadata": {},
   "outputs": [
    {
     "name": "stdout",
     "output_type": "stream",
     "text": [
      "-7.82310962677002e-08\n"
     ]
    }
   ],
   "source": [
    "x = 10776321\n",
    "nsteps = 1200\n",
    "s = x / nsteps\n",
    "y = 0\n",
    "for i in range(nsteps):\n",
    "    y += s\n",
    "print(x - y)"
   ]
  },
  {
   "cell_type": "code",
   "execution_count": 33,
   "metadata": {},
   "outputs": [
    {
     "name": "stdout",
     "output_type": "stream",
     "text": [
      "True\n"
     ]
    }
   ],
   "source": [
    "x = 10.56\n",
    "print(x == x + 5e-16)"
   ]
  },
  {
   "cell_type": "code",
   "execution_count": 34,
   "metadata": {},
   "outputs": [
    {
     "name": "stdout",
     "output_type": "stream",
     "text": [
      "z1 =  234567.781864925\n"
     ]
    }
   ],
   "source": [
    "x = 0.1234567891234567890\n",
    "y = 0.1234567891\n",
    "scale = 1e16\n",
    "z1 = (x-y) * scale\n",
    "print(\"z1 = \", z1)"
   ]
  },
  {
   "cell_type": "code",
   "execution_count": 35,
   "metadata": {},
   "outputs": [
    {
     "name": "stdout",
     "output_type": "stream",
     "text": [
      "z2 =  234567.75\n"
     ]
    }
   ],
   "source": [
    "z2 = (x*scale - y*scale)\n",
    "print(\"z2 = \", z2)"
   ]
  },
  {
   "cell_type": "markdown",
   "metadata": {},
   "source": [
    "# <a id = \"p5\">5.</a>  <font color = \"green\"> Finite Difference </font>  [back to table of contents](#top)"
   ]
  },
  {
   "cell_type": "markdown",
   "metadata": {},
   "source": [
    "![Finite Difference Formula](Finite_Difference_Formula.png)"
   ]
  },
  {
   "cell_type": "code",
   "execution_count": 36,
   "metadata": {},
   "outputs": [],
   "source": [
    "# The function evaluates and plots the error of the finite difference approximation as the step size h decreases.\n",
    "\n",
    "def testfinDiff():\n",
    "    # Defines x0 as the point at which the derivative of the exponential function will be approximated.\n",
    "    x0 = 0.1\n",
    "    # Calculates the exact derivative of ex at x0 (which is ex0), and stores it in deriv.\n",
    "    deriv = math.exp(x0)\n",
    "    # Sets the initial step size h to 1.\n",
    "    # Defines n, the number of iterations, as 60 (the number of halving steps for h).\n",
    "    h = 1\n",
    "    n = 60\n",
    "    # Creates a list hs of length n, initially filled with the value h. This will store the step sizes at each iteration.\n",
    "    hs = [h] * n\n",
    "    # Creates a list err of length n, initialized to 0. This will store the errors for each step size.\n",
    "    err = [0] * n\n",
    "    # Begins a loop over n iterations to compute the finite difference approximation and the corresponding error.\n",
    "    for i in range(0, n):\n",
    "        # Approximates the derivative using the finite difference formula\n",
    "        finDiff = (math.exp(x0+h) - math.exp(x0)) / h\n",
    "        # Records the current value of h in the hs list at index i.\n",
    "        hs[i] = h\n",
    "        # Halve Step Size\n",
    "        h = h/2\n",
    "        #print(h)\n",
    "        # Calculates the absolute error between the finite difference approximation (finDiff) and the exact derivative (deriv).\n",
    "        err[i] = abs(finDiff - deriv)\n",
    "        #print(err[i])\n",
    "    # Plots err (error values) against hs (step sizes) on a graph.\n",
    "    plt.plot(hs, err, label=\"error\")\n",
    "    # Configures both the x-axis (step sizes) and y-axis (errors) to use a logarithmic scale.\n",
    "    plt.yscale('log')\n",
    "    plt.xscale('log')\n",
    "    plt.legend()\n",
    "    plt.show()"
   ]
  },
  {
   "cell_type": "code",
   "execution_count": 37,
   "metadata": {},
   "outputs": [
    {
     "data": {
      "image/png": "[encoded data removed]",
      "text/plain": [
       "<Figure size 640x480 with 1 Axes>"
      ]
     },
     "metadata": {},
     "output_type": "display_data"
    }
   ],
   "source": [
    "testfinDiff()"
   ]
  }
 ],
 "metadata": {
  "kernelspec": {
   "display_name": "lewagon",
   "language": "python",
   "name": "python3"
  },
  "language_info": {
   "codemirror_mode": {
    "name": "ipython",
    "version": 3
   },
   "file_extension": ".py",
   "mimetype": "text/x-python",
   "name": "python",
   "nbconvert_exporter": "python",
   "pygments_lexer": "ipython3",
   "version": "3.10.6"
  }
 },
 "nbformat": 4,
 "nbformat_minor": 2
}
